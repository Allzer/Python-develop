{
  "nbformat": 4,
  "nbformat_minor": 0,
  "metadata": {
    "colab": {
      "provenance": [],
      "authorship_tag": "ABX9TyOVXhhu0TpS8ij1V5b71zr7",
      "include_colab_link": true
    },
    "kernelspec": {
      "name": "python3",
      "display_name": "Python 3"
    },
    "language_info": {
      "name": "python"
    }
  },
  "cells": [
    {
      "cell_type": "markdown",
      "metadata": {
        "id": "view-in-github",
        "colab_type": "text"
      },
      "source": [
        "<a href=\"https://colab.research.google.com/github/Allzer/Python-develop/blob/main/%D0%9A%D1%83%D1%80%D1%81%D0%BE%D0%B2%D0%B0%D1%8F%20%D1%80%D0%B0%D0%B1%D0%BE%D1%82%D0%B0%20%D1%81%20pandas.ipynb\" target=\"_parent\"><img src=\"https://colab.research.google.com/assets/colab-badge.svg\" alt=\"Open In Colab\"/></a>"
      ]
    },
    {
      "cell_type": "code",
      "execution_count": null,
      "metadata": {
        "id": "77c7_H_t5EPx"
      },
      "outputs": [],
      "source": [
        "import pandas as pd\n",
        "import numpy as np"
      ]
    },
    {
      "cell_type": "markdown",
      "source": [
        "Order number - номер заказа;\n",
        "Order date - дата заказа;\n",
        "Product name - название продукта;\n",
        "Product category - категория продукта;\n",
        "Number of sales - количество продаж;\n",
        "Price per unit - цена за штуку;\n",
        "Total cost - общая стоимость;"
      ],
      "metadata": {
        "id": "CpHQ197DIrZT"
      }
    },
    {
      "cell_type": "code",
      "source": [
        "f = pd.read_csv('tableEng.csv', encoding=\"latin-1\", sep=';')\n",
        "f"
      ],
      "metadata": {
        "colab": {
          "base_uri": "https://localhost:8080/",
          "height": 676
        },
        "id": "cA9Aw-cXHlq2",
        "outputId": "0ab95751-e7f2-43fd-de78-62ffd2343f59"
      },
      "execution_count": null,
      "outputs": [
        {
          "output_type": "execute_result",
          "data": {
            "text/plain": [
              "    Order number  Order date                   Product name  \\\n",
              "0           4001  01.02.2022                Apple iPhone 14   \n",
              "1           4002  02.04.2022       Samsung Galaxy S22 Ultra   \n",
              "2           4003  03.01.2022                  Game consoles   \n",
              "3           4004  04.02.2022                     LG OLED TV   \n",
              "4           4005  05.05.2022           Apple MacBook Pro 16   \n",
              "5           4006  06.03.2022                   Canon EOS R7   \n",
              "6           4007  07.06.2022           Bose QuietComfort 55   \n",
              "7           4008  08.05.2022          Samsung Galaxy Tab S8   \n",
              "8           4009  09.04.2022                    DJI Mavic 3   \n",
              "9           4010  10.02.2022        Philips Hue Smart Bulbs   \n",
              "10          5001  01.01.2022            Apple iPad Pro 12.9   \n",
              "11          5002  02.02.2022         Sony PlayStation 5 Pro   \n",
              "12          5003  03.10.2022         Samsung Galaxy Watch 5   \n",
              "13          5004  04.11.2022                   LG UltraFine   \n",
              "14          5005  05.12.2022                   Canon EOS R8   \n",
              "15          5006  06.10.2021        Bose SoundLink Revolve+   \n",
              "16          5007  07.09.2022                   DJI Ronin 4D   \n",
              "17          5008  08.07.2021        Samsung Galaxy Book Pro   \n",
              "18          5009  09.07.2022  Philips Sonicare DiamondClean   \n",
              "19          5010  10.02.2001       Nest Learning Thermostat   \n",
              "\n",
              "         Product category  Number of sales  Price per unit  Total cost  \n",
              "0             Smartphones              500           89990    44995000  \n",
              "1             Smartphones              300           99990    29997000  \n",
              "2           Game consoles              200           59990    11998000  \n",
              "3             Televisions              150          179990    26998500  \n",
              "4                 Laptops              100          199990    19999000  \n",
              "5                 Cameras               50          249990    12499500  \n",
              "6              Headphones              100           34990     3499000  \n",
              "7                 Tablets               75           69990     5249250  \n",
              "8                  Drones               25          149990     3749750  \n",
              "9              Smart Home              500            2990     1495000  \n",
              "10                Tablets              200           89990    17998000  \n",
              "11          Game consoles              100           59990     5999000  \n",
              "12          Smart watches              150           29990     4498500  \n",
              "13               Monitors               50           99990     4999500  \n",
              "14                Cameras               75          299990    22499250  \n",
              "15      Portable speakers              100           24990     2499000  \n",
              "16            Stabilizers               25          499990    12499750  \n",
              "17                Laptops               50          129990     6499500  \n",
              "18  Electric Toothbrushes              200            9990     1998000  \n",
              "19             Smart Home              100           19990     1999000  "
            ],
            "text/html": [
              "\n",
              "  <div id=\"df-52ccb4d5-ff4b-4f28-bb7e-9b1078e8eb1e\">\n",
              "    <div class=\"colab-df-container\">\n",
              "      <div>\n",
              "<style scoped>\n",
              "    .dataframe tbody tr th:only-of-type {\n",
              "        vertical-align: middle;\n",
              "    }\n",
              "\n",
              "    .dataframe tbody tr th {\n",
              "        vertical-align: top;\n",
              "    }\n",
              "\n",
              "    .dataframe thead th {\n",
              "        text-align: right;\n",
              "    }\n",
              "</style>\n",
              "<table border=\"1\" class=\"dataframe\">\n",
              "  <thead>\n",
              "    <tr style=\"text-align: right;\">\n",
              "      <th></th>\n",
              "      <th>Order number</th>\n",
              "      <th>Order date</th>\n",
              "      <th>Product name</th>\n",
              "      <th>Product category</th>\n",
              "      <th>Number of sales</th>\n",
              "      <th>Price per unit</th>\n",
              "      <th>Total cost</th>\n",
              "    </tr>\n",
              "  </thead>\n",
              "  <tbody>\n",
              "    <tr>\n",
              "      <th>0</th>\n",
              "      <td>4001</td>\n",
              "      <td>01.02.2022</td>\n",
              "      <td>Apple iPhone 14</td>\n",
              "      <td>Smartphones</td>\n",
              "      <td>500</td>\n",
              "      <td>89990</td>\n",
              "      <td>44995000</td>\n",
              "    </tr>\n",
              "    <tr>\n",
              "      <th>1</th>\n",
              "      <td>4002</td>\n",
              "      <td>02.04.2022</td>\n",
              "      <td>Samsung Galaxy S22 Ultra</td>\n",
              "      <td>Smartphones</td>\n",
              "      <td>300</td>\n",
              "      <td>99990</td>\n",
              "      <td>29997000</td>\n",
              "    </tr>\n",
              "    <tr>\n",
              "      <th>2</th>\n",
              "      <td>4003</td>\n",
              "      <td>03.01.2022</td>\n",
              "      <td>Game consoles</td>\n",
              "      <td>Game consoles</td>\n",
              "      <td>200</td>\n",
              "      <td>59990</td>\n",
              "      <td>11998000</td>\n",
              "    </tr>\n",
              "    <tr>\n",
              "      <th>3</th>\n",
              "      <td>4004</td>\n",
              "      <td>04.02.2022</td>\n",
              "      <td>LG OLED TV</td>\n",
              "      <td>Televisions</td>\n",
              "      <td>150</td>\n",
              "      <td>179990</td>\n",
              "      <td>26998500</td>\n",
              "    </tr>\n",
              "    <tr>\n",
              "      <th>4</th>\n",
              "      <td>4005</td>\n",
              "      <td>05.05.2022</td>\n",
              "      <td>Apple MacBook Pro 16</td>\n",
              "      <td>Laptops</td>\n",
              "      <td>100</td>\n",
              "      <td>199990</td>\n",
              "      <td>19999000</td>\n",
              "    </tr>\n",
              "    <tr>\n",
              "      <th>5</th>\n",
              "      <td>4006</td>\n",
              "      <td>06.03.2022</td>\n",
              "      <td>Canon EOS R7</td>\n",
              "      <td>Cameras</td>\n",
              "      <td>50</td>\n",
              "      <td>249990</td>\n",
              "      <td>12499500</td>\n",
              "    </tr>\n",
              "    <tr>\n",
              "      <th>6</th>\n",
              "      <td>4007</td>\n",
              "      <td>07.06.2022</td>\n",
              "      <td>Bose QuietComfort 55</td>\n",
              "      <td>Headphones</td>\n",
              "      <td>100</td>\n",
              "      <td>34990</td>\n",
              "      <td>3499000</td>\n",
              "    </tr>\n",
              "    <tr>\n",
              "      <th>7</th>\n",
              "      <td>4008</td>\n",
              "      <td>08.05.2022</td>\n",
              "      <td>Samsung Galaxy Tab S8</td>\n",
              "      <td>Tablets</td>\n",
              "      <td>75</td>\n",
              "      <td>69990</td>\n",
              "      <td>5249250</td>\n",
              "    </tr>\n",
              "    <tr>\n",
              "      <th>8</th>\n",
              "      <td>4009</td>\n",
              "      <td>09.04.2022</td>\n",
              "      <td>DJI Mavic 3</td>\n",
              "      <td>Drones</td>\n",
              "      <td>25</td>\n",
              "      <td>149990</td>\n",
              "      <td>3749750</td>\n",
              "    </tr>\n",
              "    <tr>\n",
              "      <th>9</th>\n",
              "      <td>4010</td>\n",
              "      <td>10.02.2022</td>\n",
              "      <td>Philips Hue Smart Bulbs</td>\n",
              "      <td>Smart Home</td>\n",
              "      <td>500</td>\n",
              "      <td>2990</td>\n",
              "      <td>1495000</td>\n",
              "    </tr>\n",
              "    <tr>\n",
              "      <th>10</th>\n",
              "      <td>5001</td>\n",
              "      <td>01.01.2022</td>\n",
              "      <td>Apple iPad Pro 12.9</td>\n",
              "      <td>Tablets</td>\n",
              "      <td>200</td>\n",
              "      <td>89990</td>\n",
              "      <td>17998000</td>\n",
              "    </tr>\n",
              "    <tr>\n",
              "      <th>11</th>\n",
              "      <td>5002</td>\n",
              "      <td>02.02.2022</td>\n",
              "      <td>Sony PlayStation 5 Pro</td>\n",
              "      <td>Game consoles</td>\n",
              "      <td>100</td>\n",
              "      <td>59990</td>\n",
              "      <td>5999000</td>\n",
              "    </tr>\n",
              "    <tr>\n",
              "      <th>12</th>\n",
              "      <td>5003</td>\n",
              "      <td>03.10.2022</td>\n",
              "      <td>Samsung Galaxy Watch 5</td>\n",
              "      <td>Smart watches</td>\n",
              "      <td>150</td>\n",
              "      <td>29990</td>\n",
              "      <td>4498500</td>\n",
              "    </tr>\n",
              "    <tr>\n",
              "      <th>13</th>\n",
              "      <td>5004</td>\n",
              "      <td>04.11.2022</td>\n",
              "      <td>LG UltraFine</td>\n",
              "      <td>Monitors</td>\n",
              "      <td>50</td>\n",
              "      <td>99990</td>\n",
              "      <td>4999500</td>\n",
              "    </tr>\n",
              "    <tr>\n",
              "      <th>14</th>\n",
              "      <td>5005</td>\n",
              "      <td>05.12.2022</td>\n",
              "      <td>Canon EOS R8</td>\n",
              "      <td>Cameras</td>\n",
              "      <td>75</td>\n",
              "      <td>299990</td>\n",
              "      <td>22499250</td>\n",
              "    </tr>\n",
              "    <tr>\n",
              "      <th>15</th>\n",
              "      <td>5006</td>\n",
              "      <td>06.10.2021</td>\n",
              "      <td>Bose SoundLink Revolve+</td>\n",
              "      <td>Portable speakers</td>\n",
              "      <td>100</td>\n",
              "      <td>24990</td>\n",
              "      <td>2499000</td>\n",
              "    </tr>\n",
              "    <tr>\n",
              "      <th>16</th>\n",
              "      <td>5007</td>\n",
              "      <td>07.09.2022</td>\n",
              "      <td>DJI Ronin 4D</td>\n",
              "      <td>Stabilizers</td>\n",
              "      <td>25</td>\n",
              "      <td>499990</td>\n",
              "      <td>12499750</td>\n",
              "    </tr>\n",
              "    <tr>\n",
              "      <th>17</th>\n",
              "      <td>5008</td>\n",
              "      <td>08.07.2021</td>\n",
              "      <td>Samsung Galaxy Book Pro</td>\n",
              "      <td>Laptops</td>\n",
              "      <td>50</td>\n",
              "      <td>129990</td>\n",
              "      <td>6499500</td>\n",
              "    </tr>\n",
              "    <tr>\n",
              "      <th>18</th>\n",
              "      <td>5009</td>\n",
              "      <td>09.07.2022</td>\n",
              "      <td>Philips Sonicare DiamondClean</td>\n",
              "      <td>Electric Toothbrushes</td>\n",
              "      <td>200</td>\n",
              "      <td>9990</td>\n",
              "      <td>1998000</td>\n",
              "    </tr>\n",
              "    <tr>\n",
              "      <th>19</th>\n",
              "      <td>5010</td>\n",
              "      <td>10.02.2001</td>\n",
              "      <td>Nest Learning Thermostat</td>\n",
              "      <td>Smart Home</td>\n",
              "      <td>100</td>\n",
              "      <td>19990</td>\n",
              "      <td>1999000</td>\n",
              "    </tr>\n",
              "  </tbody>\n",
              "</table>\n",
              "</div>\n",
              "      <button class=\"colab-df-convert\" onclick=\"convertToInteractive('df-52ccb4d5-ff4b-4f28-bb7e-9b1078e8eb1e')\"\n",
              "              title=\"Convert this dataframe to an interactive table.\"\n",
              "              style=\"display:none;\">\n",
              "        \n",
              "  <svg xmlns=\"http://www.w3.org/2000/svg\" height=\"24px\"viewBox=\"0 0 24 24\"\n",
              "       width=\"24px\">\n",
              "    <path d=\"M0 0h24v24H0V0z\" fill=\"none\"/>\n",
              "    <path d=\"M18.56 5.44l.94 2.06.94-2.06 2.06-.94-2.06-.94-.94-2.06-.94 2.06-2.06.94zm-11 1L8.5 8.5l.94-2.06 2.06-.94-2.06-.94L8.5 2.5l-.94 2.06-2.06.94zm10 10l.94 2.06.94-2.06 2.06-.94-2.06-.94-.94-2.06-.94 2.06-2.06.94z\"/><path d=\"M17.41 7.96l-1.37-1.37c-.4-.4-.92-.59-1.43-.59-.52 0-1.04.2-1.43.59L10.3 9.45l-7.72 7.72c-.78.78-.78 2.05 0 2.83L4 21.41c.39.39.9.59 1.41.59.51 0 1.02-.2 1.41-.59l7.78-7.78 2.81-2.81c.8-.78.8-2.07 0-2.86zM5.41 20L4 18.59l7.72-7.72 1.47 1.35L5.41 20z\"/>\n",
              "  </svg>\n",
              "      </button>\n",
              "      \n",
              "  <style>\n",
              "    .colab-df-container {\n",
              "      display:flex;\n",
              "      flex-wrap:wrap;\n",
              "      gap: 12px;\n",
              "    }\n",
              "\n",
              "    .colab-df-convert {\n",
              "      background-color: #E8F0FE;\n",
              "      border: none;\n",
              "      border-radius: 50%;\n",
              "      cursor: pointer;\n",
              "      display: none;\n",
              "      fill: #1967D2;\n",
              "      height: 32px;\n",
              "      padding: 0 0 0 0;\n",
              "      width: 32px;\n",
              "    }\n",
              "\n",
              "    .colab-df-convert:hover {\n",
              "      background-color: #E2EBFA;\n",
              "      box-shadow: 0px 1px 2px rgba(60, 64, 67, 0.3), 0px 1px 3px 1px rgba(60, 64, 67, 0.15);\n",
              "      fill: #174EA6;\n",
              "    }\n",
              "\n",
              "    [theme=dark] .colab-df-convert {\n",
              "      background-color: #3B4455;\n",
              "      fill: #D2E3FC;\n",
              "    }\n",
              "\n",
              "    [theme=dark] .colab-df-convert:hover {\n",
              "      background-color: #434B5C;\n",
              "      box-shadow: 0px 1px 3px 1px rgba(0, 0, 0, 0.15);\n",
              "      filter: drop-shadow(0px 1px 2px rgba(0, 0, 0, 0.3));\n",
              "      fill: #FFFFFF;\n",
              "    }\n",
              "  </style>\n",
              "\n",
              "      <script>\n",
              "        const buttonEl =\n",
              "          document.querySelector('#df-52ccb4d5-ff4b-4f28-bb7e-9b1078e8eb1e button.colab-df-convert');\n",
              "        buttonEl.style.display =\n",
              "          google.colab.kernel.accessAllowed ? 'block' : 'none';\n",
              "\n",
              "        async function convertToInteractive(key) {\n",
              "          const element = document.querySelector('#df-52ccb4d5-ff4b-4f28-bb7e-9b1078e8eb1e');\n",
              "          const dataTable =\n",
              "            await google.colab.kernel.invokeFunction('convertToInteractive',\n",
              "                                                     [key], {});\n",
              "          if (!dataTable) return;\n",
              "\n",
              "          const docLinkHtml = 'Like what you see? Visit the ' +\n",
              "            '<a target=\"_blank\" href=https://colab.research.google.com/notebooks/data_table.ipynb>data table notebook</a>'\n",
              "            + ' to learn more about interactive tables.';\n",
              "          element.innerHTML = '';\n",
              "          dataTable['output_type'] = 'display_data';\n",
              "          await google.colab.output.renderOutput(dataTable, element);\n",
              "          const docLink = document.createElement('div');\n",
              "          docLink.innerHTML = docLinkHtml;\n",
              "          element.appendChild(docLink);\n",
              "        }\n",
              "      </script>\n",
              "    </div>\n",
              "  </div>\n",
              "  "
            ]
          },
          "metadata": {},
          "execution_count": 2
        }
      ]
    },
    {
      "cell_type": "markdown",
      "source": [
        "Общая выручка магазина"
      ],
      "metadata": {
        "id": "PrXOz2KZJa_D"
      }
    },
    {
      "cell_type": "code",
      "source": [
        "T_c = f['Total cost'][:] #Копируем в переменную значения нужного нам столбца\n",
        "npT_c = np.array([T_c]) #Закидываем значения в массив нампи\n",
        "print(f'Общая выручка составит {np.sum(npT_c)}р') #Выводим результат\n"
      ],
      "metadata": {
        "colab": {
          "base_uri": "https://localhost:8080/"
        },
        "id": "gwanfkgpJekT",
        "outputId": "c45e7367-dc4d-4ebb-d861-37e64f97a6c4"
      },
      "execution_count": null,
      "outputs": [
        {
          "output_type": "stream",
          "name": "stdout",
          "text": [
            "Общая выручка составит 241969500р\n"
          ]
        }
      ]
    },
    {
      "cell_type": "markdown",
      "source": [
        "Найти товар, который был продан наибольшее количество раз"
      ],
      "metadata": {
        "id": "nrZ85RIAMcPG"
      }
    },
    {
      "cell_type": "code",
      "source": [
        "all = f[['Product name', 'Number of sales']] #создаём массив данных из нужных нам столбцов\n",
        "q = all.sort_values(by = 'Number of sales', ascending=False) #сортируем по возрастанию\n",
        "q.loc[0] #выводим нулевой индекс (самое большое кол-во продаж)"
      ],
      "metadata": {
        "id": "YTRTLtseMg02",
        "colab": {
          "base_uri": "https://localhost:8080/"
        },
        "outputId": "fd1e6906-4373-4c88-c562-c7c6d66dc1c1"
      },
      "execution_count": null,
      "outputs": [
        {
          "output_type": "execute_result",
          "data": {
            "text/plain": [
              "Product name       Apple iPhone 14\n",
              "Number of sales                500\n",
              "Name: 0, dtype: object"
            ]
          },
          "metadata": {},
          "execution_count": 50
        }
      ]
    },
    {
      "cell_type": "markdown",
      "source": [
        " Найти товар, который принес наибольшую выручку\n"
      ],
      "metadata": {
        "id": "eA0SjuW37Y9p"
      }
    },
    {
      "cell_type": "code",
      "source": [
        "all = f[['Product name', 'Total cost']] #создаём массив данных из нужных нам столбцов\n",
        "q = all.sort_values(by = 'Total cost', ascending=False) #сортируем по возрастанию\n",
        "q.loc[0] #выводим нулевой индекс (больше всего выручки)"
      ],
      "metadata": {
        "colab": {
          "base_uri": "https://localhost:8080/"
        },
        "id": "4CNhyq5X7cN_",
        "outputId": "53c2bc58-2441-4ca3-ab0e-2f083f1091d1"
      },
      "execution_count": null,
      "outputs": [
        {
          "output_type": "execute_result",
          "data": {
            "text/plain": [
              "Product name    Apple iPhone 14\n",
              "Total cost             44995000\n",
              "Name: 0, dtype: object"
            ]
          },
          "metadata": {},
          "execution_count": 48
        }
      ]
    }
  ]
}
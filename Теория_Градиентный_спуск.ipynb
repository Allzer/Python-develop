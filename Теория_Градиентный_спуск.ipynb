{
  "nbformat": 4,
  "nbformat_minor": 0,
  "metadata": {
    "colab": {
      "provenance": [],
      "authorship_tag": "ABX9TyMdGAhyrTdcEYBNXQMzMzKb",
      "include_colab_link": true
    },
    "kernelspec": {
      "name": "python3",
      "display_name": "Python 3"
    },
    "language_info": {
      "name": "python"
    }
  },
  "cells": [
    {
      "cell_type": "markdown",
      "metadata": {
        "id": "view-in-github",
        "colab_type": "text"
      },
      "source": [
        "<a href=\"https://colab.research.google.com/github/Allzer/Python-develop/blob/main/%D0%A2%D0%B5%D0%BE%D1%80%D0%B8%D1%8F_%D0%93%D1%80%D0%B0%D0%B4%D0%B8%D0%B5%D0%BD%D1%82%D0%BD%D1%8B%D0%B9_%D1%81%D0%BF%D1%83%D1%81%D0%BA.ipynb\" target=\"_parent\"><img src=\"https://colab.research.google.com/assets/colab-badge.svg\" alt=\"Open In Colab\"/></a>"
      ]
    },
    {
      "cell_type": "markdown",
      "source": [
        "Загружаем нужные нам библиотеки"
      ],
      "metadata": {
        "id": "cxwpYUs1JJiz"
      }
    },
    {
      "cell_type": "code",
      "execution_count": 1,
      "metadata": {
        "id": "Kiokj1cgY7VJ"
      },
      "outputs": [],
      "source": [
        "import numpy as np\n",
        "import pandas as pd\n",
        "import matplotlib.pyplot as plt\n",
        "from random import randint\n",
        "from sklearn.linear_model import LinearRegression\n",
        "import time"
      ]
    },
    {
      "cell_type": "markdown",
      "source": [
        "Градиентный спуск пример"
      ],
      "metadata": {
        "id": "DQ3-z2hIa4jd"
      }
    },
    {
      "cell_type": "markdown",
      "source": [
        "Определяем функции"
      ],
      "metadata": {
        "id": "7w48zQtvbelB"
      }
    },
    {
      "cell_type": "code",
      "source": [
        "def f(x): #Изначальная функция\n",
        "  return x*x - 5*x + 5\n",
        "\n",
        "def df(x): #Производная от функции\n",
        "  return 2*x - 5"
      ],
      "metadata": {
        "id": "f-3DsPDca4Lp"
      },
      "execution_count": 2,
      "outputs": []
    },
    {
      "cell_type": "markdown",
      "source": [
        "Определяем параметры алгоритма"
      ],
      "metadata": {
        "id": "QJAlcUtjb-Df"
      }
    },
    {
      "cell_type": "code",
      "source": [
        "n = 20 #Число итераций\n",
        "xx = 0 #Начальное значение\n",
        "lmd = 0.1 #Шаг сходимости"
      ],
      "metadata": {
        "id": "xJkAIBi3cI6h"
      },
      "execution_count": 3,
      "outputs": []
    },
    {
      "cell_type": "markdown",
      "source": [
        "Формируем изменение аргумента функции"
      ],
      "metadata": {
        "id": "4pLiN27UcoTn"
      }
    },
    {
      "cell_type": "code",
      "source": [
        "x_zn = np.arange(0, 5.0, 0.1) #Диапазон изменения аргумента\n",
        "f_zn = [f(x) for x in x_zn] #Значения функции\n",
        "f_zn"
      ],
      "metadata": {
        "id": "b9vyR2skcn8E"
      },
      "execution_count": null,
      "outputs": []
    },
    {
      "cell_type": "markdown",
      "source": [
        "Построение графиков"
      ],
      "metadata": {
        "id": "Znn9DHiee0j5"
      }
    },
    {
      "cell_type": "code",
      "source": [
        "fig,ax = plt.subplots() #Нужно для создания фигуры, содержащей одну ось\n",
        "ax.grid(True) #Отображение сетки на графике\n",
        "ax.plot(x_zn,f_zn) #Отображение параболы\n",
        "point = ax.scatter(xx,f(xx),c='r') #Отображение точки красным цветом\n",
        "\n",
        "mn = 100 #Ограничитель\n",
        "#Алгоритм, который показывает движение точки\n",
        "for i in range(n):\n",
        "  lmd = 1/min(i+1, mn) #Формула, которая считает оптимальный шаг сходимсоти\n",
        "  xx = xx - lmd * np.sign(df(xx)) #Изменение аргумента на текущей итерации\n",
        "  #np.sign - знаковая функция, которая возвращает то +1, то -1 в зависимости от знака производной \"df(xx)\" (Эта функция занимается нормировкой градиента)\n",
        "  point.set_offsets([xx, f(xx)]) #Отображение нового положения точки\n",
        "\n",
        "print(xx) #Точка экстремума, которую мы искали (близкое значение)"
      ],
      "metadata": {
        "id": "QA2k0jljhB-x"
      },
      "execution_count": null,
      "outputs": []
    },
    {
      "cell_type": "markdown",
      "source": [
        "Выбор шага сходимсоти делается \"на глаз\". Начинаем с 0.1 и потом увеличиваем на порядок (0.01, 0.001) и т.д. Шаг должен обеспечивать хорошую точность и скорость работы алгоритма. Но потом я посмотрел видос дальше и там сказали, что есть формула \"1/min(i,mn)\", которая сама считает оптимальный шаг сходимсоти. Минусом данного алгоритма является то, что мы можем попасть в точку локального минимума, а не глобального минимума функции"
      ],
      "metadata": {
        "id": "2E-NQQZNjmeb"
      }
    },
    {
      "cell_type": "markdown",
      "source": [
        "Градиентный спуск для двух параметров"
      ],
      "metadata": {
        "id": "UNXcNOEeW64C"
      }
    },
    {
      "cell_type": "markdown",
      "source": [
        "Будем использовать этот алгоритм для нахождения оптимальных значений параметров а и b, функции f(x) = ax + b, при линейной регрессии"
      ],
      "metadata": {
        "id": "D2I74qu5XG2u"
      }
    },
    {
      "cell_type": "code",
      "source": [
        "def E(y, a, b): #Функция для нахождения ошибок. Зависит от экс.значений \"у\" и от двух параметров а и b\n",
        "  ff = np.array([a * z + b for z in range(n)]) #\"ff\" - прямая на основе параметров а и b\n",
        "  return np.dot((y-ff).T, (y-ff)) #Вычисляем квадрат разностей (между значениями \"у\" и прямой \"ff\")\n",
        "  #Функция np.dot () принимает три аргумента и возвращает скалярное произведение двух заданных векторов в Python.\n",
        "  #Векторы могут быть как одномерными, так и многомерными. В обоих случаях это следует правилу математического скалярного произведения.\n",
        "\n",
        "def dEda(y, a, b): #Вычисляем частную производную\n",
        "  ff = np.array([a * z + b for z in range(n)]) #Формируем прямую (range(N) - формирует вектор от 0 до N-1)\n",
        "  return -2*np.dot((y - ff).T, range(n))\n",
        "\n",
        "def dEdb(y, a, b): #Вычисляем частную производную для второй функции\n",
        "  ff = np.array([a * z + b for z in range(n)]) #Формируем прямую\n",
        "  return -2*(y - ff).sum()"
      ],
      "metadata": {
        "id": "6uAcnywbW-6P"
      },
      "execution_count": 6,
      "outputs": []
    },
    {
      "cell_type": "code",
      "source": [
        "N = 100 #Число экспериментов\n",
        "Niter = 50 #Число итераций\n",
        "sigma = 3 #Стандартное отклонение наблюдаемых значений\n",
        "at = 0.5 #Теоретическое значение параметра к\n",
        "bt = 2 #Теоретическое значение параметра b\n",
        "\n",
        "aa = 0 #Начальное приближение параметра а\n",
        "bb = 0 #Начальное приближение параметр b\n",
        "lmd1 = 0.000001\n",
        "lmd2 = 0.0005"
      ],
      "metadata": {
        "id": "vn7MDHKr4esZ"
      },
      "execution_count": 7,
      "outputs": []
    }
  ]
}
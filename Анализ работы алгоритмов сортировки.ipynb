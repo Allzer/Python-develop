{
  "nbformat": 4,
  "nbformat_minor": 0,
  "metadata": {
    "colab": {
      "provenance": [],
      "authorship_tag": "ABX9TyPB5rXZQ+wdGrbAZzWz+4m/",
      "include_colab_link": true
    },
    "kernelspec": {
      "name": "python3",
      "display_name": "Python 3"
    },
    "language_info": {
      "name": "python"
    }
  },
  "cells": [
    {
      "cell_type": "markdown",
      "metadata": {
        "id": "view-in-github",
        "colab_type": "text"
      },
      "source": [
        "<a href=\"https://colab.research.google.com/github/Allzer/Python-develop/blob/main/%D0%90%D0%BD%D0%B0%D0%BB%D0%B8%D0%B7%20%D1%80%D0%B0%D0%B1%D0%BE%D1%82%D1%8B%20%D0%B0%D0%BB%D0%B3%D0%BE%D1%80%D0%B8%D1%82%D0%BC%D0%BE%D0%B2%20%D1%81%D0%BE%D1%80%D1%82%D0%B8%D1%80%D0%BE%D0%B2%D0%BA%D0%B8.ipynb\" target=\"_parent\"><img src=\"https://colab.research.google.com/assets/colab-badge.svg\" alt=\"Open In Colab\"/></a>"
      ]
    },
    {
      "cell_type": "code",
      "execution_count": 1,
      "metadata": {
        "id": "vXQCs1-cEEMI"
      },
      "outputs": [],
      "source": [
        "import random\n",
        "import time\n",
        "import numpy as np\n",
        "import math\n",
        "import matplotlib.pyplot as plt\n",
        "import copy"
      ]
    },
    {
      "cell_type": "code",
      "source": [
        "user_m = 6\n",
        "user_n = 6\n",
        "user_min_limit = 1\n",
        "user_max_limit = 12\n",
        "mass = [[random.randint(user_min_limit, user_max_limit) for _ in range (0, user_n)] for _ in range (0, user_m)]\n",
        "print(mass)\n",
        "mass0 = mass[0]"
      ],
      "metadata": {
        "colab": {
          "base_uri": "https://localhost:8080/"
        },
        "id": "1LFAUh_HESV9",
        "outputId": "90d533c3-fa82-4cfa-ac9d-8554722016c7"
      },
      "execution_count": 2,
      "outputs": [
        {
          "output_type": "stream",
          "name": "stdout",
          "text": [
            "[[7, 10, 4, 1, 11, 4], [3, 5, 3, 1, 4, 12], [6, 8, 6, 10, 6, 12], [8, 12, 4, 3, 4, 4], [10, 10, 1, 2, 4, 8], [5, 1, 5, 2, 6, 9]]\n"
          ]
        }
      ]
    },
    {
      "cell_type": "code",
      "source": [
        "print(mass0)"
      ],
      "metadata": {
        "id": "iifb4UWMhwip",
        "outputId": "ff13a040-2b05-44e9-ccbf-f8eb496da2dc",
        "colab": {
          "base_uri": "https://localhost:8080/"
        }
      },
      "execution_count": 3,
      "outputs": [
        {
          "output_type": "stream",
          "name": "stdout",
          "text": [
            "[7, 10, 4, 1, 11, 4]\n"
          ]
        }
      ]
    },
    {
      "cell_type": "code",
      "source": [
        "T_Selection = []\n",
        "T_Insertion = []\n",
        "T_Bubble = []\n",
        "T_Shell = []\n",
        "T_Quick = []\n",
        "T_Tourn = []\n",
        "T_Standard = []\n",
        "N = [100,200,300,400,500,600,700,800,900,1000,1100,1200,1300,1400,1500,1600,1700,1800,1900,2000]\n",
        "arr = copy.deepcopy(mass)"
      ],
      "metadata": {
        "id": "tWvZPtzu2abs"
      },
      "execution_count": 4,
      "outputs": []
    },
    {
      "cell_type": "markdown",
      "source": [
        "Сортировка выбором"
      ],
      "metadata": {
        "id": "B2xnkNwWgyxD"
      }
    },
    {
      "cell_type": "code",
      "source": [
        "def sort(mass): #сама функция\n",
        "  for i in range(0,len(mass)): #цикл, который отвечает за перемещение по всем матрицам\n",
        "    mass0 = mass[i] #смена индекса в матриц\n",
        "    n = len(mass0) #переменная, которая отвечает за кол-во итераций (кол-во элементов в массиве)\n",
        "    for i in range(n-1): #цикл отвечающий за смену \"первого\" индекса\n",
        "      m = i #переменная в которую записывается первый индекс\n",
        "      for j in range(i+1, n): #цикл отвечающий за \"второй\" индекс\n",
        "        if mass0[j] < mass0[m]: #сравнение индексов\n",
        "          m = j #если \"второй\" индекс меньше \"первого\", то мы меняем их местами\n",
        "      mass0[i], mass0[m] = mass0[m], mass0[i] #меняем местами\n",
        "  print(mass) #выводим отсортированную матрицу\n",
        "\n",
        "st = time.time()\n",
        "sort(mass) #вызываем функцию\n",
        "print(f'время работы программы: {time.time()-st}')"
      ],
      "metadata": {
        "colab": {
          "base_uri": "https://localhost:8080/"
        },
        "id": "jaafysOzGm9b",
        "outputId": "cc296d30-a251-4442-e8bc-11ecb9e04816"
      },
      "execution_count": 5,
      "outputs": [
        {
          "output_type": "stream",
          "name": "stdout",
          "text": [
            "[[1, 4, 4, 7, 10, 11], [1, 3, 3, 4, 5, 12], [6, 6, 6, 8, 10, 12], [3, 4, 4, 4, 8, 12], [1, 2, 4, 8, 10, 10], [1, 2, 5, 5, 6, 9]]\n",
            "время работы программы: 0.0009317398071289062\n"
          ]
        }
      ]
    },
    {
      "cell_type": "markdown",
      "source": [
        "Сортировка вставкой"
      ],
      "metadata": {
        "id": "rcLi5P_fg1pR"
      }
    },
    {
      "cell_type": "code",
      "source": [
        "def sort2(mass):\n",
        "  for i in range(0,len(mass)): #цикл, который отвечает за перемещение по всем матрицам\n",
        "      mass0 = mass[i] #смена индекса в матриц\n",
        "      for i in range(1, len(mass0)):\n",
        "            temp = mass0[i] #элемент с \"первым\" индексом\n",
        "            j = i - 1 #индекс \"нулевого\" элемента массива\n",
        "            while (j >= 0 and temp < mass0[j]): #пока \"нулевой\" элемент меньше \"первого\"\n",
        "                mass0[j + 1] = mass0[j] #присваивыаем элементу, который идёт после j-итого эелмента значение элемента с индексом j\n",
        "                j = j - 1\n",
        "            mass0[j + 1] = temp\n",
        "  print(mass)\n",
        "st = time.time()\n",
        "sort2(mass)\n",
        "print(f'время работы программы: {time.time()-st}')"
      ],
      "metadata": {
        "colab": {
          "base_uri": "https://localhost:8080/"
        },
        "id": "k37LgBdsg1QE",
        "outputId": "622f885a-dc3a-49d7-bd83-41259723a307"
      },
      "execution_count": 6,
      "outputs": [
        {
          "output_type": "stream",
          "name": "stdout",
          "text": [
            "[[1, 4, 4, 7, 10, 11], [1, 3, 3, 4, 5, 12], [6, 6, 6, 8, 10, 12], [3, 4, 4, 4, 8, 12], [1, 2, 4, 8, 10, 10], [1, 2, 5, 5, 6, 9]]\n",
            "время работы программы: 0.0016982555389404297\n"
          ]
        }
      ]
    },
    {
      "cell_type": "markdown",
      "source": [
        "Сортировка обменом/пузырьком"
      ],
      "metadata": {
        "id": "0ppmrWCQrt-O"
      }
    },
    {
      "cell_type": "code",
      "source": [
        "def sort3(mass):\n",
        "  for i in range(0,len(mass)): #цикл, который отвечает за перемещение по всем матрицам\n",
        "      mass0 = mass[i] #смена индекса в матриц\n",
        "      n=len(mass0) #колв-во итераций\n",
        "      for i in range(n): #циул, чтобы пройтись по всем индексам массива\n",
        "          for j in range(n-i-1): #цикл, чтобы сравнить два крайних элемента\n",
        "              if mass0[j] > mass0[j+1]: #если элемент с меньшим индексом больше элемента с большим индексом, то мы меняем их местами\n",
        "                 mass0[j], mass0[j+1] = mass0[j+1], mass0[j] #меняем местами\n",
        "  print(mass)\n",
        "st = time.time()\n",
        "sort3(mass)\n",
        "print(f'время работы программы: {time.time()-st}')"
      ],
      "metadata": {
        "colab": {
          "base_uri": "https://localhost:8080/"
        },
        "id": "bsthzyMfrxQ1",
        "outputId": "584cade2-8506-491e-aeab-d54d58987be9"
      },
      "execution_count": 7,
      "outputs": [
        {
          "output_type": "stream",
          "name": "stdout",
          "text": [
            "[[1, 4, 4, 7, 10, 11], [1, 3, 3, 4, 5, 12], [6, 6, 6, 8, 10, 12], [3, 4, 4, 4, 8, 12], [1, 2, 4, 8, 10, 10], [1, 2, 5, 5, 6, 9]]\n",
            "время работы программы: 0.007801055908203125\n"
          ]
        }
      ]
    },
    {
      "cell_type": "markdown",
      "source": [
        "Сортировка Шела"
      ],
      "metadata": {
        "id": "bstHoyL6wUMJ"
      }
    },
    {
      "cell_type": "code",
      "source": [
        "def sort4(mass):\n",
        "  for i in range(0,len(mass)): #цикл, который отвечает за перемещение по всем матрицам\n",
        "      mass0 = mass[i] #смена индекса в матриц\n",
        "      n = len(mass0)\n",
        "      d = int(math.log2(n))\n",
        "      interval = 2**d -1 #интервал в которыом сравниваются элементы массива\n",
        "      while interval > 0: #всё тоже самое, что и в сортировке вставкой\n",
        "          for i in range(interval, n):\n",
        "              temp = mass0[i]\n",
        "              j = i\n",
        "              while j >= interval and mass0[j - interval] > temp:\n",
        "                  mass0[j] = mass0[j - interval]\n",
        "                  j -= interval\n",
        "              mass0[j] = temp\n",
        "          d -= 1 #уменьшаем интервал сравнения\n",
        "          interval = 2**d -1\n",
        "  print(mass)\n",
        "st = time.time()\n",
        "sort4(mass)\n",
        "print(f'время работы программы: {time.time()-st}')\n",
        "#элемпенты сравниваются в определённом интервале (interval). Постепенно он уменьшается, пока не станет равным 1.\n",
        "#после этого происходит обычная соритровка вставкой, но в разы быстрее т.к часть элементов уже отсортированы"
      ],
      "metadata": {
        "colab": {
          "base_uri": "https://localhost:8080/"
        },
        "id": "RifiCwLEwWD1",
        "outputId": "3c33ed00-07d3-41de-9f4f-88051ceb3f30"
      },
      "execution_count": 8,
      "outputs": [
        {
          "output_type": "stream",
          "name": "stdout",
          "text": [
            "[[1, 4, 4, 7, 10, 11], [1, 3, 3, 4, 5, 12], [6, 6, 6, 8, 10, 12], [3, 4, 4, 4, 8, 12], [1, 2, 4, 8, 10, 10], [1, 2, 5, 5, 6, 9]]\n",
            "время работы программы: 0.002347230911254883\n"
          ]
        }
      ]
    },
    {
      "cell_type": "markdown",
      "source": [
        "Быстрая сортировка"
      ],
      "metadata": {
        "id": "aJl8t6Sa0ATP"
      }
    },
    {
      "cell_type": "markdown",
      "source": [
        "Алгоритм\n",
        "Быстрая сортировка начинается с разбиения списка и выбора одного из элементов в качестве опорного. А всё остальное передвигаем так, чтобы этот элемент встал на своё место. Все элементы меньше него перемещаются влево, а равные и большие элементы перемещаются вправо."
      ],
      "metadata": {
        "id": "zbCZEXDGuUsr"
      }
    },
    {
      "cell_type": "code",
      "source": [
        "def partition(nums, low, high):\n",
        "    # Выбираем средний элемент в качестве опорного\n",
        "    # Также возможен выбор первого, последнего\n",
        "    # или произвольного элементов в качестве опорного\n",
        "        pivot = nums[(low + high) // 2]\n",
        "        i = low - 1\n",
        "        j = high + 1\n",
        "        while True:\n",
        "            i += 1\n",
        "            while nums[i] < pivot:\n",
        "                i += 1\n",
        "            j -= 1\n",
        "            while nums[j] > pivot:\n",
        "                j -= 1\n",
        "            if i >= j:\n",
        "                return j\n",
        "            # Если элемент с индексом i (слева от опорного) больше, чем\n",
        "            # элемент с индексом j (справа от опорного), меняем их местами\n",
        "            nums[i], nums[j] = nums[j], nums[i]\n",
        "def quick_sort(nums):\n",
        "    # Создадим вспомогательную функцию, которая вызывается рекурсивно\n",
        "    def _quick_sort(items, low, high):\n",
        "        if low < high:\n",
        "            # This is the index after the pivot, where our lists are split\n",
        "            split_index = partition(items, low, high)\n",
        "            _quick_sort(items, low, split_index)\n",
        "            _quick_sort(items, split_index + 1, high)\n",
        "    _quick_sort(nums, 0, len(nums) - 1)\n",
        "\n",
        "def qsort(mass):\n",
        "  for i in range(len(mass)):\n",
        "    quick_sort(mass[i])\n",
        "\n",
        "st = time.time()\n",
        "qsort(mass)\n",
        "print(mass)\n",
        "print(f'время работы программы: {time.time()-st}')\n",
        "\n"
      ],
      "metadata": {
        "colab": {
          "base_uri": "https://localhost:8080/"
        },
        "id": "ZUw249750DPy",
        "outputId": "e16b82bd-83f7-424b-a8dd-dbc26b8e4ab8"
      },
      "execution_count": 9,
      "outputs": [
        {
          "output_type": "stream",
          "name": "stdout",
          "text": [
            "[[1, 4, 4, 7, 10, 11], [1, 3, 3, 4, 5, 12], [6, 6, 6, 8, 10, 12], [3, 4, 4, 4, 8, 12], [1, 2, 4, 8, 10, 10], [1, 2, 5, 5, 6, 9]]\n",
            "время работы программы: 0.0022759437561035156\n"
          ]
        }
      ]
    },
    {
      "cell_type": "markdown",
      "source": [
        "Турнирная сортировка"
      ],
      "metadata": {
        "id": "2_DIqA1pi9HO"
      }
    },
    {
      "cell_type": "code",
      "source": [
        "def heapsort(alist):\n",
        "    build_max_heap(alist)\n",
        "    for i in range(len(alist) - 1, 0, -1):\n",
        "        alist[0], alist[i] = alist[i], alist[0]\n",
        "        max_heapify(alist, index=0, size=i)\n",
        "\n",
        "def parent(i):\n",
        "    return (i - 1)//2\n",
        "\n",
        "def left(i):\n",
        "    return 2*i + 1\n",
        "\n",
        "def right(i):\n",
        "    return 2*i + 2\n",
        "\n",
        "def build_max_heap(alist):\n",
        "    length = len(alist)\n",
        "    start = parent(length - 1)\n",
        "    while start >= 0:\n",
        "        max_heapify(alist, index=start, size=length)\n",
        "        start = start - 1\n",
        "\n",
        "def max_heapify(alist, index, size):\n",
        "    l = left(index)\n",
        "    r = right(index)\n",
        "    if (l < size and alist[l] > alist[index]):\n",
        "        largest = l\n",
        "    else:\n",
        "        largest = index\n",
        "    if (r < size and alist[r] > alist[largest]):\n",
        "        largest = r\n",
        "    if (largest != index):\n",
        "        alist[largest], alist[index] = alist[index], alist[largest]\n",
        "        max_heapify(alist, largest, size)\n",
        "\n",
        "st = time.time()\n",
        "\n",
        "def tsort(mass):\n",
        "  for i in range(len(mass)):\n",
        "    heapsort(mass[i])\n",
        "\n",
        "tsort(mass)\n",
        "print(mass)\n",
        "print(f'время работы программы: {time.time()-st}')"
      ],
      "metadata": {
        "colab": {
          "base_uri": "https://localhost:8080/"
        },
        "id": "h3fatyeXi_3-",
        "outputId": "424f0ae5-5b45-45fd-fcad-77690a6cc36d"
      },
      "execution_count": 10,
      "outputs": [
        {
          "output_type": "stream",
          "name": "stdout",
          "text": [
            "[[1, 4, 4, 7, 10, 11], [1, 3, 3, 4, 5, 12], [6, 6, 6, 8, 10, 12], [3, 4, 4, 4, 8, 12], [1, 2, 4, 8, 10, 10], [1, 2, 5, 5, 6, 9]]\n",
            "время работы программы: 0.003033876419067383\n"
          ]
        }
      ]
    },
    {
      "cell_type": "markdown",
      "source": [
        "Стандартная сортировка"
      ],
      "metadata": {
        "id": "0TPSlHI04ENi"
      }
    },
    {
      "cell_type": "code",
      "source": [
        "def StandardSort(mass):\n",
        "  mass.sort()\n",
        "  return arr\n",
        "mas = copy.deepcopy(mass)\n",
        "start_time = time.time()\n",
        "StandardSort(mas)"
      ],
      "metadata": {
        "colab": {
          "base_uri": "https://localhost:8080/"
        },
        "id": "SranYVQu4Ace",
        "outputId": "b81b0e41-57dd-4d97-cd6a-044b0953c24b"
      },
      "execution_count": 11,
      "outputs": [
        {
          "output_type": "execute_result",
          "data": {
            "text/plain": [
              "[[7, 10, 4, 1, 11, 4],\n",
              " [3, 5, 3, 1, 4, 12],\n",
              " [6, 8, 6, 10, 6, 12],\n",
              " [8, 12, 4, 3, 4, 4],\n",
              " [10, 10, 1, 2, 4, 8],\n",
              " [5, 1, 5, 2, 6, 9]]"
            ]
          },
          "metadata": {},
          "execution_count": 11
        }
      ]
    },
    {
      "cell_type": "markdown",
      "source": [
        "Строим графики"
      ],
      "metadata": {
        "id": "Yh8yOL-lyVwY"
      }
    },
    {
      "cell_type": "code",
      "source": [
        "for n in N:\n",
        "  start = time.time()\n",
        "  sort(mass)\n",
        "  end = time.time()\n",
        "\n",
        "  T_Selection.append((end - start)*1000)\n",
        "\n",
        "  start = time.time()\n",
        "  sort2(mass)\n",
        "  end = time.time()\n",
        "\n",
        "  T_Insertion.append((end - start)*1000)\n",
        "\n",
        "  start = time.time()\n",
        "  sort3(mass)\n",
        "  end = time.time()\n",
        "\n",
        "  T_Bubble.append((end - start)*1000)\n",
        "\n",
        "  start = time.time()\n",
        "  sort4(mass)\n",
        "  end = time.time()\n",
        "\n",
        "  T_Shell.append((end - start)*1000)\n",
        "\n",
        "  start = time.time()\n",
        "  qsort(mass)\n",
        "  end = time.time()\n",
        "\n",
        "  T_Quick.append((end - start)*1000)\n",
        "\n",
        "  start = time.time()\n",
        "  tsort(mass)\n",
        "  end = time.time()\n",
        "\n",
        "  T_Tourn.append((end - start)*1000)\n",
        "\n",
        "  start = time.time()\n",
        "  mass.sort()\n",
        "  end = time.time()\n",
        "\n",
        "  T_Standard.append((end - start)*1000)"
      ],
      "metadata": {
        "id": "JAtECmVQy4yy"
      },
      "execution_count": null,
      "outputs": []
    },
    {
      "cell_type": "code",
      "source": [
        "plt.plot(N, T_Selection, label = \"Сортировка выбором\")\n",
        "plt.plot(N, T_Bubble, label = \"Сортировка пузырьком\")\n",
        "plt.plot(N, T_Quick, label = \"Сортировка быстрая\")\n",
        "plt.plot(N, T_Insertion, label = \"Сортировка вставкой\")\n",
        "plt.plot(N, T_Shell, label = \"Сортировка Шелла\")\n",
        "plt.plot(N, T_Tourn, label = \"Турнирная сортировка\")\n",
        "plt.plot(N, T_Standard, label = \"Cтандартная сортировка\")\n",
        "\n",
        "\n",
        "\n",
        "plt.ylabel('Sizeof Matrix')\n",
        "plt.ylabel('Time, ms')\n",
        "plt.title(\"Анализ работы алгоритмов сортировки\")\n",
        "plt.legend()\n",
        "plt.show()"
      ],
      "metadata": {
        "colab": {
          "base_uri": "https://localhost:8080/",
          "height": 452
        },
        "id": "5u4zAXAL26NI",
        "outputId": "f80e523c-88bd-465e-ac43-20f9a9df2516"
      },
      "execution_count": 13,
      "outputs": [
        {
          "output_type": "display_data",
          "data": {
            "text/plain": [
              "<Figure size 640x480 with 1 Axes>"
            ],
            "image/png": "[encoded data removed]"
          },
          "metadata": {}
        }
      ]
    }
  ]
}
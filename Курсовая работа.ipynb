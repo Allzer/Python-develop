{
  "nbformat": 4,
  "nbformat_minor": 0,
  "metadata": {
    "colab": {
      "provenance": [],
      "authorship_tag": "ABX9TyOYaowWzvNQ6txRIUZlWRww",
      "include_colab_link": true
    },
    "kernelspec": {
      "name": "python3",
      "display_name": "Python 3"
    },
    "language_info": {
      "name": "python"
    }
  },
  "cells": [
    {
      "cell_type": "markdown",
      "metadata": {
        "id": "view-in-github",
        "colab_type": "text"
      },
      "source": [
        "<a href=\"https://colab.research.google.com/github/Allzer/Python-develop/blob/main/%D0%9A%D1%83%D1%80%D1%81%D0%BE%D0%B2%D0%B0%D1%8F%20%D1%80%D0%B0%D0%B1%D0%BE%D1%82%D0%B0.ipynb\" target=\"_parent\"><img src=\"https://colab.research.google.com/assets/colab-badge.svg\" alt=\"Open In Colab\"/></a>"
      ]
    },
    {
      "cell_type": "code",
      "execution_count": null,
      "metadata": {
        "id": "7QV9W_y7CuLv"
      },
      "outputs": [],
      "source": [
        "import csv\n",
        "import numpy as np"
      ]
    },
    {
      "cell_type": "code",
      "source": [
        "f = open('tableEng.csv').read() #Открываем файл и считываем его\n",
        "\n",
        "all = [] #Создаём пустой массив, куда будем записывать данные\n",
        "for row in f.split('\\n')[:]:\n",
        "  all.append(row.split(';')) #Записываем данные в массив\n",
        "all.pop(0) #Удалаяем первую строку с названиями\n",
        "\n",
        "all_s = len(all[0])-1 #Создаём переменную, которая равна кол-ву столбцов т.к нам нужен именно последний столбец\n",
        "#print(all[0])\n",
        "#print(all_s)"
      ],
      "metadata": {
        "id": "jI5kOpzZDHgU"
      },
      "execution_count": null,
      "outputs": []
    },
    {
      "cell_type": "markdown",
      "source": [
        "Общая выручка магазина"
      ],
      "metadata": {
        "id": "BXzAEp07eCW7"
      }
    },
    {
      "cell_type": "code",
      "source": [
        "suma = [all[i][all_s] for i in range(len(all)-1)] #Заполняем массив информацией о стоимости продукта\n",
        "T_c = np.array([suma]) #Создаём массив numpy\n",
        "T_c = T_c.astype('int32') #Меняем тип переменных на int, чтобы можно было сложить\n",
        "print(f'Общая выручка составит {np.sum(T_c)}р') # Сумируем и выводим результат"
      ],
      "metadata": {
        "colab": {
          "base_uri": "https://localhost:8080/"
        },
        "id": "1xkgODZnJZ1j",
        "outputId": "9450ab85-43fe-4280-82c6-432487f1da66"
      },
      "execution_count": null,
      "outputs": [
        {
          "output_type": "stream",
          "name": "stdout",
          "text": [
            "Общая выручка составит 241969500р\n"
          ]
        }
      ]
    },
    {
      "cell_type": "markdown",
      "source": [
        "Найти товар, который был продан наибольшее количество раз"
      ],
      "metadata": {
        "id": "IZ3Nj6jUe2Cv"
      }
    },
    {
      "cell_type": "code",
      "source": [
        "pr_k = len(all[0])-5 #Столбец названий\n",
        "n_k = len(all[0])-3 #Столбец кол-ва продаж\n",
        "name = [all[i][pr_k] for i in range(len(all)-1)] #Заполняем массив названиями\n",
        "col_vo = [all[i][n_k] for i in range(len(all)-1)] #Заполняем массив продажами\n",
        "for i in range(len(col_vo)):\n",
        "  col_vo[i] = int(col_vo[i])\n",
        "\n",
        "mx = name[col_vo.index(max(col_vo))]\n",
        "print(f'Больше всего продали: {mx}')"
      ],
      "metadata": {
        "id": "uSD_7-iIe1rc",
        "colab": {
          "base_uri": "https://localhost:8080/"
        },
        "outputId": "18e324b5-59e7-4f72-d368-c259bc0041b7"
      },
      "execution_count": null,
      "outputs": [
        {
          "output_type": "stream",
          "name": "stdout",
          "text": [
            "Больше всего продали: Apple iPhone 14\n"
          ]
        }
      ]
    },
    {
      "cell_type": "markdown",
      "source": [
        "Найти товар, который принес наибольшую выручку"
      ],
      "metadata": {
        "id": "THrf6dkW0Yn4"
      }
    },
    {
      "cell_type": "code",
      "source": [
        "cen = len(all[0])-1 #столбец общей цены\n",
        "price = [all[i][cen] for i in range(len(all)-1)] #массив со значениями цены\n",
        "for i in range(len(price)):\n",
        "  price[i] = int(price[i])\n",
        "\n",
        "bolsh = name[price.index(max(price))]\n",
        "print(f'Больше всего прибыли: {bolsh}')"
      ],
      "metadata": {
        "colab": {
          "base_uri": "https://localhost:8080/"
        },
        "id": "kGHNsoiR0c7X",
        "outputId": "704832ba-43d5-49e3-f267-ed0cf0e9fb34"
      },
      "execution_count": null,
      "outputs": [
        {
          "output_type": "stream",
          "name": "stdout",
          "text": [
            "Больше всего прибыли: Apple iPhone 14\n"
          ]
        }
      ]
    }
  ]
}
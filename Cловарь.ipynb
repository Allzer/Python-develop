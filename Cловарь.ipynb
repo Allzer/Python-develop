{
  "nbformat": 4,
  "nbformat_minor": 0,
  "metadata": {
    "colab": {
      "provenance": [],
      "authorship_tag": "ABX9TyOVmo4t2mBnP12moWKAMsYg",
      "include_colab_link": true
    },
    "kernelspec": {
      "name": "python3",
      "display_name": "Python 3"
    },
    "language_info": {
      "name": "python"
    }
  },
  "cells": [
    {
      "cell_type": "markdown",
      "metadata": {
        "id": "view-in-github",
        "colab_type": "text"
      },
      "source": [
        "<a href=\"https://colab.research.google.com/github/Allzer/Python-develop/blob/main/C%D0%BB%D0%BE%D0%B2%D0%B0%D1%80%D1%8C.ipynb\" target=\"_parent\"><img src=\"https://colab.research.google.com/assets/colab-badge.svg\" alt=\"Open In Colab\"/></a>"
      ]
    },
    {
      "cell_type": "code",
      "execution_count": 1,
      "metadata": {
        "colab": {
          "base_uri": "https://localhost:8080/"
        },
        "id": "_1c809nyKLen",
        "outputId": "1bdc0308-0e01-40f5-d015-5f5bc9f27dad"
      },
      "outputs": [
        {
          "output_type": "stream",
          "name": "stdout",
          "text": [
            "гвоножопачленпиздадвамазутчерви\n"
          ]
        }
      ],
      "source": [
        "with open ('text.txt','r') as f:\n",
        "  s = f.read().replace(\" \", \"\").replace(\",\", \"\")\n",
        "  print(s)"
      ]
    },
    {
      "cell_type": "code",
      "source": [
        "s.split()"
      ],
      "metadata": {
        "id": "U2PcLO1xK3W-",
        "colab": {
          "base_uri": "https://localhost:8080/"
        },
        "outputId": "957ad639-4a33-408b-9c4a-599456678b73"
      },
      "execution_count": 2,
      "outputs": [
        {
          "output_type": "execute_result",
          "data": {
            "text/plain": [
              "['гвоножопачленпиздадвамазутчерви']"
            ]
          },
          "metadata": {},
          "execution_count": 2
        }
      ]
    },
    {
      "cell_type": "code",
      "source": [
        "q=list(s)\n",
        "print(q)"
      ],
      "metadata": {
        "colab": {
          "base_uri": "https://localhost:8080/"
        },
        "id": "hkmmZIusNzuu",
        "outputId": "4a0bfd93-e82b-4dce-89fe-a4ca85b60e60"
      },
      "execution_count": 3,
      "outputs": [
        {
          "output_type": "stream",
          "name": "stdout",
          "text": [
            "['г', 'в', 'о', 'н', 'о', 'ж', 'о', 'п', 'а', 'ч', 'л', 'е', 'н', 'п', 'и', 'з', 'д', 'а', 'д', 'в', 'а', 'м', 'а', 'з', 'у', 'т', 'ч', 'е', 'р', 'в', 'и']\n"
          ]
        }
      ]
    },
    {
      "cell_type": "code",
      "source": [
        "q_set = set(q)\n",
        "print(f'Количество уникальных символов: {len(set(q))} Количество символов: {len(q)}')\n",
        "print(q_set)"
      ],
      "metadata": {
        "colab": {
          "base_uri": "https://localhost:8080/"
        },
        "id": "GWCQgFPlBpkY",
        "outputId": "d84f75b7-4fed-480a-efe3-ebb191db5f32"
      },
      "execution_count": 4,
      "outputs": [
        {
          "output_type": "stream",
          "name": "stdout",
          "text": [
            "Количество уникальных символов: 17 Количество символов: 31\n",
            "{'н', 'т', 'у', 'л', 'о', 'ч', 'и', 'м', 'а', 'ж', 'п', 'р', 'д', 'е', 'в', 'г', 'з'}\n"
          ]
        }
      ]
    },
    {
      "cell_type": "code",
      "source": [
        "from collections import Counter\n",
        "qc = Counter(q)\n",
        "qc = dict(qc)\n",
        "print(qc)"
      ],
      "metadata": {
        "id": "feDPfhM4VGUM",
        "colab": {
          "base_uri": "https://localhost:8080/"
        },
        "outputId": "e260dc25-da93-47b1-880e-53e7069e3a25"
      },
      "execution_count": 5,
      "outputs": [
        {
          "output_type": "stream",
          "name": "stdout",
          "text": [
            "{'г': 1, 'в': 3, 'о': 3, 'н': 2, 'ж': 1, 'п': 2, 'а': 4, 'ч': 2, 'л': 1, 'е': 2, 'и': 2, 'з': 2, 'д': 2, 'м': 1, 'у': 1, 'т': 1, 'р': 1}\n"
          ]
        }
      ]
    },
    {
      "cell_type": "code",
      "source": [
        "qc = sorted(dict.items(qc), key=lambda item: item[1])\n",
        "qc.reverse()\n",
        "qc = dict(qc)\n",
        "print(qc)"
      ],
      "metadata": {
        "colab": {
          "base_uri": "https://localhost:8080/"
        },
        "id": "Tqu3oaQKTxAr",
        "outputId": "9057f1cb-6764-4c43-8b7e-a8e7e80e9c38"
      },
      "execution_count": 6,
      "outputs": [
        {
          "output_type": "stream",
          "name": "stdout",
          "text": [
            "{'а': 4, 'о': 3, 'в': 3, 'д': 2, 'з': 2, 'и': 2, 'е': 2, 'ч': 2, 'п': 2, 'н': 2, 'р': 1, 'т': 1, 'у': 1, 'м': 1, 'л': 1, 'ж': 1, 'г': 1}\n"
          ]
        }
      ]
    },
    {
      "cell_type": "code",
      "source": [
        "keyss = qc.keys()\n",
        "print(keyss)\n",
        "value = [i for i in range(len(q_set))]\n",
        "value.reverse()\n",
        "print(value)"
      ],
      "metadata": {
        "colab": {
          "base_uri": "https://localhost:8080/"
        },
        "id": "s42fSeuFZaXQ",
        "outputId": "336f2e8e-fc52-4786-edfc-678266fecc24"
      },
      "execution_count": 7,
      "outputs": [
        {
          "output_type": "stream",
          "name": "stdout",
          "text": [
            "dict_keys(['а', 'о', 'в', 'д', 'з', 'и', 'е', 'ч', 'п', 'н', 'р', 'т', 'у', 'м', 'л', 'ж', 'г'])\n",
            "[16, 15, 14, 13, 12, 11, 10, 9, 8, 7, 6, 5, 4, 3, 2, 1, 0]\n"
          ]
        }
      ]
    },
    {
      "cell_type": "code",
      "source": [
        "slovar = dict(zip(keyss, value))\n",
        "print(slovar)"
      ],
      "metadata": {
        "colab": {
          "base_uri": "https://localhost:8080/"
        },
        "id": "k98NNQqXVbML",
        "outputId": "2028fd59-1a46-4c5a-81e5-b45bc9ec541d"
      },
      "execution_count": 8,
      "outputs": [
        {
          "output_type": "stream",
          "name": "stdout",
          "text": [
            "{'а': 16, 'о': 15, 'в': 14, 'д': 13, 'з': 12, 'и': 11, 'е': 10, 'ч': 9, 'п': 8, 'н': 7, 'р': 6, 'т': 5, 'у': 4, 'м': 3, 'л': 2, 'ж': 1, 'г': 0}\n"
          ]
        }
      ]
    },
    {
      "cell_type": "markdown",
      "source": [
        "# Новый раздел"
      ],
      "metadata": {
        "id": "m5AC7lpiLBTc"
      }
    },
    {
      "cell_type": "code",
      "source": [
        "# {'c':5, 'д':4, 'е':3, 'н':2, 'и':1, 'у':0}\n",
        "#Работа с текстом, работа со словарём, сортировка символов в порядке убывания в зависимости от того, как частво встречается тот или иной символ"
      ],
      "metadata": {
        "id": "LNLlBa8kKSO_"
      },
      "execution_count": null,
      "outputs": []
    }
  ]
}